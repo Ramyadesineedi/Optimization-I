{
 "cells": [
  {
   "cell_type": "markdown",
   "id": "1a77bd6d",
   "metadata": {},
   "source": [
    "# Dedicated Portfolio using Linear Programming Optimization Techniques\n",
    "Team Members: John Flume, Ramya Madhuri Desineedi, Scott H Fields, Yue Cui\n",
    "\n",
    "Submitted on 8th October 2021"
   ]
  },
  {
   "cell_type": "code",
   "execution_count": 1,
   "id": "47e3e188",
   "metadata": {},
   "outputs": [],
   "source": [
    "## Importing necessary libraries\n",
    "import warnings\n",
    "warnings.filterwarnings('ignore')\n",
    "import numpy as np\n",
    "import gurobipy as gp\n",
    "import pandas as pd\n",
    "from matplotlib import pyplot as plt\n",
    "import matplotlib.pyplot as plt"
   ]
  },
  {
   "cell_type": "code",
   "execution_count": 2,
   "id": "5ce32514",
   "metadata": {},
   "outputs": [],
   "source": [
    "## read in data\n",
    "liabilities = pd.read_csv('liabilities.csv')\n",
    "bonds = pd.read_csv('bonds.csv')"
   ]
  },
  {
   "cell_type": "markdown",
   "id": "e21bc4fc",
   "metadata": {},
   "source": [
    "## Optimal Solution"
   ]
  },
  {
   "cell_type": "code",
   "execution_count": 3,
   "id": "d4ff4f05",
   "metadata": {
    "scrolled": true
   },
   "outputs": [
    {
     "data": {
      "text/plain": [
       "13"
      ]
     },
     "execution_count": 3,
     "metadata": {},
     "output_type": "execute_result"
    }
   ],
   "source": [
    "## set number of variables\n",
    "## in our case, all bond options are variables\n",
    "NumVar = len(bonds)\n",
    "NumVar"
   ]
  },
  {
   "cell_type": "code",
   "execution_count": 4,
   "id": "a028a06e",
   "metadata": {},
   "outputs": [
    {
     "data": {
      "text/plain": [
       "8"
      ]
     },
     "execution_count": 4,
     "metadata": {},
     "output_type": "execute_result"
    }
   ],
   "source": [
    "#Number of years for which we are designing cashflows\n",
    "n = liabilities.Year.max()\n",
    "n"
   ]
  },
  {
   "cell_type": "code",
   "execution_count": 5,
   "id": "137fa5cc",
   "metadata": {},
   "outputs": [
    {
     "data": {
      "text/plain": [
       "array([102,   0,  99, 101,  98,  98,   0, 104, 100, 101, 102,  94,   0])"
      ]
     },
     "execution_count": 5,
     "metadata": {},
     "output_type": "execute_result"
    }
   ],
   "source": [
    "## set up objective vectors\n",
    "## the object vectors are the cashflow we need to pay at year=0 for each bond/forward\n",
    "## define a function to tranform a dataframe of a bond to a list of cashflow\n",
    "def getobj(bonds):\n",
    "    obj = []\n",
    "    ## loop through all bond option\n",
    "    for i in range(len(bonds)):\n",
    "        ## when year=0, pay price value for regular bond \n",
    "        if bonds['StartTime'][i] == 0:\n",
    "            obj.append(bonds['Price'][i])\n",
    "        ## and 0 for forward\n",
    "        else:\n",
    "            obj.append(0)\n",
    "    return obj\n",
    "\n",
    "obj = getobj(bonds)\n",
    "obj = np.array(obj)\n",
    "obj"
   ]
  },
  {
   "cell_type": "code",
   "execution_count": 6,
   "id": "a031d1b0",
   "metadata": {},
   "outputs": [
    {
     "data": {
      "text/plain": [
       "array([[ 105. , -100. ,    3.5,    4. ,    2.5,    4. ,    0. ,    9. ,\n",
       "           6. ,    8. ,    9. ,    7. ,    0. ],\n",
       "       [   0. ,  103. ,  103.5,  104. ,    2.5,    4. ,  -98. ,    9. ,\n",
       "           6. ,    8. ,    9. ,    7. ,    0. ],\n",
       "       [   0. ,    0. ,    0. ,    0. ,  102.5,    4. ,    2. ,    9. ,\n",
       "           6. ,    8. ,    9. ,    7. ,  -91. ],\n",
       "       [   0. ,    0. ,    0. ,    0. ,    0. ,  104. ,  102. ,    9. ,\n",
       "           6. ,    8. ,    9. ,    7. ,    3. ],\n",
       "       [   0. ,    0. ,    0. ,    0. ,    0. ,    0. ,    0. ,  109. ,\n",
       "         106. ,    8. ,    9. ,    7. ,    3. ],\n",
       "       [   0. ,    0. ,    0. ,    0. ,    0. ,    0. ,    0. ,    0. ,\n",
       "           0. ,  108. ,    9. ,    7. ,    3. ],\n",
       "       [   0. ,    0. ,    0. ,    0. ,    0. ,    0. ,    0. ,    0. ,\n",
       "           0. ,    0. ,  109. ,    7. ,    3. ],\n",
       "       [   0. ,    0. ,    0. ,    0. ,    0. ,    0. ,    0. ,    0. ,\n",
       "           0. ,    0. ,    0. ,  107. ,  103. ]])"
      ]
     },
     "execution_count": 6,
     "metadata": {},
     "output_type": "execute_result"
    }
   ],
   "source": [
    "## set up constraint\n",
    "## in our case, we want to make sure the case flow for each year \n",
    "## is greater or equal than the liability of this year\n",
    "\n",
    "## define a function to tranform a dataframe of a bond to the left hand side od a constraint matrix(A)\n",
    "def getA(bonds, n):\n",
    "    ## construct the cash flow from year 1-n for each bond\n",
    "    Cashflow = []\n",
    "    for i in range(len(bonds)):\n",
    "        ## initiate the cash flow from year 1-n to zero\n",
    "        cf = np.zeros(n)\n",
    "        ## fill in the cashflow when the bond comes to maturity\n",
    "        cf[bonds['Maturity'][i] - 1] = 100 + bonds['Coupon'][i]\n",
    "        ## if is regular bond, set year 1 to before maturity cashflows to coupon value \n",
    "        if bonds['StartTime'][i] == 0:\n",
    "            for j in range(bonds['Maturity'][i] - 1):\n",
    "                cf[j] = bonds['Coupon'][i]\n",
    "        else:\n",
    "            ## if is forward, set cashflow of start year to negative price\n",
    "            cf[bonds['StartTime'][i]-1] = -1* bonds['Price'][i]\n",
    "            ## set year 1 to before maturity cashflows to coupon \n",
    "            for k in range(bonds['StartTime'][i],bonds['Maturity'][i] - 1):\n",
    "                cf[k] = bonds['Coupon'][i]\n",
    "        ##concatenate each year's cash flow\n",
    "        Cashflow = np.concatenate([Cashflow,cf])\n",
    "\n",
    "    ## Split the cashflow by each bonds \n",
    "    Cashflow_split = np.array_split(Cashflow,len(bonds))\n",
    "\n",
    "    ## initialize constraint matrix A\n",
    "    ## # of columns = # of variables\n",
    "    ## # of rows = # of years\n",
    "    ## here we transpose the original cashflow matrix since previously, \n",
    "    ## each row is a bond, now, each row represents a year\n",
    "    A = np.array(Cashflow_split).transpose()\n",
    "    return A\n",
    "\n",
    "A = getA(bonds,n)\n",
    "A"
   ]
  },
  {
   "cell_type": "code",
   "execution_count": 7,
   "id": "bdd52c4e",
   "metadata": {},
   "outputs": [
    {
     "data": {
      "text/plain": [
       "array([1200000, 1800000, 2000000, 2000000, 1600000, 1500000, 1200000,\n",
       "       1000000])"
      ]
     },
     "execution_count": 7,
     "metadata": {},
     "output_type": "execute_result"
    }
   ],
   "source": [
    "## set up constraint on the right hand side (lower limits)\n",
    "b = np.array(liabilities['Liability'])\n",
    "\n",
    "## all constraints are greater than or equal constraints\n",
    "sense = np.array(['>']*len(liabilities))\n",
    "\n",
    "b"
   ]
  },
  {
   "cell_type": "code",
   "execution_count": 8,
   "id": "93fe5ff4",
   "metadata": {},
   "outputs": [
    {
     "name": "stdout",
     "output_type": "stream",
     "text": [
      "Restricted license - for non-production use only - expires 2022-01-13\n",
      "year = 0 cashflow: 9447500.76\n",
      "Number of each bond we buy at year = 0:\n",
      "[ 6522.49     0.   12848.62     0.   15298.32 15680.78     0.   12308.01\n",
      "     0.   12415.73 10408.99  9345.79     0.  ]\n"
     ]
    }
   ],
   "source": [
    "## define a function to solve the optimal stratgy\n",
    "## this can only solve minimize optimal\n",
    "def solveoptimal(NumVar, A, obj, sense, b):\n",
    "## initialize an empty model\n",
    "    ojModel = gp.Model()\n",
    "\n",
    "\n",
    "\n",
    "    ## tell the model how many variables there are\n",
    "    ojModX = ojModel.addMVar(NumVar)\n",
    "\n",
    "\n",
    "\n",
    "    ## add the constraints to the model\n",
    "    ojModCon = ojModel.addMConstrs(A, ojModX, sense, b)\n",
    "    ojModel.setMObjective(None,obj,0,sense=gp.GRB.MINIMIZE)\n",
    "\n",
    "\n",
    "\n",
    "    ojModel.Params.OutputFlag = 0 ## tell gurobi to shut up!!(tensorflow, less talk)\n",
    "    ojModel.optimize()\n",
    "\n",
    "    \n",
    "    x = np.around(ojModX.x, decimals=2)\n",
    "    y = round(ojModel.objVal,2)\n",
    "    \n",
    "    print(\"year = 0 cashflow: \"+str(y))\n",
    "    print(\"Number of each bond we buy at year = 0:\")\n",
    "    print(x)\n",
    "    \n",
    "    return x, y\n",
    "    \n",
    "    \n",
    "\n",
    "## use the function\n",
    "x, y = solveoptimal(NumVar, A, obj, sense, b)"
   ]
  },
  {
   "cell_type": "code",
   "execution_count": 9,
   "id": "440d6908",
   "metadata": {},
   "outputs": [],
   "source": [
    "## create b list to store how much money put in each bond at year 0\n",
    "bondlist = []\n",
    "for i in range(NumVar):\n",
    "    total = x[i]*bonds['Price'][i]\n",
    "    bondlist.append(total)"
   ]
  },
  {
   "cell_type": "code",
   "execution_count": 10,
   "id": "c15b8eef",
   "metadata": {},
   "outputs": [
    {
     "data": {
      "image/png": "[encoded data removed]",
      "text/plain": [
       "<Figure size 864x720 with 1 Axes>"
      ]
     },
     "metadata": {},
     "output_type": "display_data"
    }
   ],
   "source": [
    "## create par chart to how much money put in each bond at year 0\n",
    "bond = ['bond1', 'bond2', 'bond3','bond4','bond5','bond6','bond7','bond8','bond9','bond10','bond11','bond12','bond13']\n",
    "dictionary = dict(zip(bond,bondlist))\n",
    "\n",
    "names = [key for key,value in dictionary.items() if value!=0]\n",
    "values = [value for value in dictionary.values() if value!=0]\n",
    "\n",
    "## creating plot\n",
    "fig = plt.figure(figsize =(12,10))\n",
    "plt.title('Money put in each bond at year = 0')\n",
    "plt.pie(values, labels=names, autopct=lambda p : '{:.2f}%  ({:,.0f})'.format(p,p * sum(bondlist)/100))\n",
    "plt.show()"
   ]
  },
  {
   "cell_type": "code",
   "execution_count": 11,
   "id": "bb00380f",
   "metadata": {},
   "outputs": [
    {
     "data": {
      "text/plain": [
       "<AxesSubplot:title={'center':'Cash inflow from bond every year compared to liability'}, ylabel='US Dollar$'>"
      ]
     },
     "execution_count": 11,
     "metadata": {},
     "output_type": "execute_result"
    },
    {
     "data": {
      "image/png": "[encoded data removed]",
      "text/plain": [
       "<Figure size 864x576 with 1 Axes>"
      ]
     },
     "metadata": {
      "needs_background": "light"
     },
     "output_type": "display_data"
    }
   ],
   "source": [
    "## compute each year's cashflow from bond\n",
    "CF = A @ x\n",
    "\n",
    "## create the line chart and bar chart on the same graph\n",
    "## this graph is used to to check if all years' liability got coverd by bonds' cash inflow\n",
    "## we can see every year there is a binding constraint\n",
    "CFcomparison = pd.DataFrame({'liability': b,'bond': CF})\n",
    "## start from year 1\n",
    "CFcomparison.index += 1 \n",
    "\n",
    "## creating the plot\n",
    "ax = CFcomparison.plot.bar(y='liability', color = 'y', ylabel='US Dollar$', figsize=(12, 8))\n",
    "plt.title('Cash inflow from bond every year compared to liability')\n",
    "CFcomparison.plot(y='bond', marker='d', color =\"r\", ax=ax, use_index=False, mark_right=False)"
   ]
  },
  {
   "cell_type": "markdown",
   "id": "4df96175",
   "metadata": {},
   "source": [
    "## Sensitivity Analysis"
   ]
  },
  {
   "cell_type": "code",
   "execution_count": 12,
   "id": "366178bb",
   "metadata": {},
   "outputs": [],
   "source": [
    "## since we only cares about the change on liability,\n",
    "## we just need to focus on b, not c\n",
    "ojModel = gp.Model()\n",
    "ojModX = ojModel.addMVar(NumVar)\n",
    "ojModCon = ojModel.addMConstrs(A, ojModX, sense, b)\n",
    "ojModel.setMObjective(None,obj,0,sense=gp.GRB.MINIMIZE)\n",
    "ojModel.Params.OutputFlag = 0 ## tell gurobi to shut up!!(tensorflow, less talk)\n",
    "ojModel.optimize()\n",
    "\n",
    "\n",
    "## find shadow price for each year's constraint\n",
    "## every constraint seems to be binding\n",
    "shadowprice = [con.Pi for con in ojModCon]\n",
    "\n",
    "## lower bound for each year's liability(b) to keep the shadow price equation right\n",
    "lowerbound = [round(con.SARHSLow,2) for con in ojModCon]\n",
    "\n",
    "## upper bound for each year's liability(b) to keep the shadow price equation right\n",
    "upperbound = [round(con.SARHSUp,2) for con in ojModCon]"
   ]
  },
  {
   "cell_type": "code",
   "execution_count": 13,
   "id": "9d9029c9",
   "metadata": {},
   "outputs": [
    {
     "data": {
      "text/html": [
       "<div>\n",
       "<style scoped>\n",
       "    .dataframe tbody tr th:only-of-type {\n",
       "        vertical-align: middle;\n",
       "    }\n",
       "\n",
       "    .dataframe tbody tr th {\n",
       "        vertical-align: top;\n",
       "    }\n",
       "\n",
       "    .dataframe thead th {\n",
       "        text-align: right;\n",
       "    }\n",
       "</style>\n",
       "<table border=\"1\" class=\"dataframe\">\n",
       "  <thead>\n",
       "    <tr style=\"text-align: right;\">\n",
       "      <th></th>\n",
       "      <th>liability(b)</th>\n",
       "      <th>shadowprice</th>\n",
       "      <th>lowerbound</th>\n",
       "      <th>upperbound</th>\n",
       "    </tr>\n",
       "  </thead>\n",
       "  <tbody>\n",
       "    <tr>\n",
       "      <th>0</th>\n",
       "      <td>1200000</td>\n",
       "      <td>0.971429</td>\n",
       "      <td>515138.37</td>\n",
       "      <td>inf</td>\n",
       "    </tr>\n",
       "    <tr>\n",
       "      <th>1</th>\n",
       "      <td>1800000</td>\n",
       "      <td>0.923671</td>\n",
       "      <td>470168.21</td>\n",
       "      <td>22052336.81</td>\n",
       "    </tr>\n",
       "    <tr>\n",
       "      <th>2</th>\n",
       "      <td>2000000</td>\n",
       "      <td>0.909876</td>\n",
       "      <td>431922.42</td>\n",
       "      <td>31062103.33</td>\n",
       "    </tr>\n",
       "    <tr>\n",
       "      <th>3</th>\n",
       "      <td>2000000</td>\n",
       "      <td>0.834424</td>\n",
       "      <td>369199.31</td>\n",
       "      <td>20890367.16</td>\n",
       "    </tr>\n",
       "    <tr>\n",
       "      <th>4</th>\n",
       "      <td>1600000</td>\n",
       "      <td>0.653628</td>\n",
       "      <td>258427.25</td>\n",
       "      <td>10751333.43</td>\n",
       "    </tr>\n",
       "    <tr>\n",
       "      <th>5</th>\n",
       "      <td>1500000</td>\n",
       "      <td>0.617183</td>\n",
       "      <td>159101.43</td>\n",
       "      <td>12618870.11</td>\n",
       "    </tr>\n",
       "    <tr>\n",
       "      <th>6</th>\n",
       "      <td>1200000</td>\n",
       "      <td>0.530350</td>\n",
       "      <td>65420.56</td>\n",
       "      <td>11972949.71</td>\n",
       "    </tr>\n",
       "    <tr>\n",
       "      <th>7</th>\n",
       "      <td>1000000</td>\n",
       "      <td>0.522580</td>\n",
       "      <td>-0.00</td>\n",
       "      <td>15820500.81</td>\n",
       "    </tr>\n",
       "  </tbody>\n",
       "</table>\n",
       "</div>"
      ],
      "text/plain": [
       "   liability(b)  shadowprice  lowerbound   upperbound\n",
       "0       1200000     0.971429   515138.37          inf\n",
       "1       1800000     0.923671   470168.21  22052336.81\n",
       "2       2000000     0.909876   431922.42  31062103.33\n",
       "3       2000000     0.834424   369199.31  20890367.16\n",
       "4       1600000     0.653628   258427.25  10751333.43\n",
       "5       1500000     0.617183   159101.43  12618870.11\n",
       "6       1200000     0.530350    65420.56  11972949.71\n",
       "7       1000000     0.522580       -0.00  15820500.81"
      ]
     },
     "execution_count": 13,
     "metadata": {},
     "output_type": "execute_result"
    }
   ],
   "source": [
    "## show the shadow price for each year's liability\n",
    "shadow = pd.DataFrame({'liability(b)': b,'shadowprice': shadowprice,'lowerbound':lowerbound,'upperbound':upperbound})\n",
    "shadow "
   ]
  },
  {
   "cell_type": "markdown",
   "id": "cfa08107",
   "metadata": {},
   "source": [
    "## Real Bonds"
   ]
  },
  {
   "cell_type": "code",
   "execution_count": 14,
   "id": "ebfb0cff",
   "metadata": {},
   "outputs": [
    {
     "data": {
      "text/html": [
       "<div>\n",
       "<style scoped>\n",
       "    .dataframe tbody tr th:only-of-type {\n",
       "        vertical-align: middle;\n",
       "    }\n",
       "\n",
       "    .dataframe tbody tr th {\n",
       "        vertical-align: top;\n",
       "    }\n",
       "\n",
       "    .dataframe thead th {\n",
       "        text-align: right;\n",
       "    }\n",
       "</style>\n",
       "<table border=\"1\" class=\"dataframe\">\n",
       "  <thead>\n",
       "    <tr style=\"text-align: right;\">\n",
       "      <th></th>\n",
       "      <th>MATURITY</th>\n",
       "      <th>COUPON</th>\n",
       "      <th>BID</th>\n",
       "      <th>ASKED</th>\n",
       "      <th>CHG</th>\n",
       "      <th>ASKED YIELD</th>\n",
       "    </tr>\n",
       "  </thead>\n",
       "  <tbody>\n",
       "    <tr>\n",
       "      <th>0</th>\n",
       "      <td>10/15/21</td>\n",
       "      <td>2.875</td>\n",
       "      <td>100.016</td>\n",
       "      <td>100.022</td>\n",
       "      <td>-0.014</td>\n",
       "      <td>0.0154</td>\n",
       "    </tr>\n",
       "    <tr>\n",
       "      <th>1</th>\n",
       "      <td>10/31/21</td>\n",
       "      <td>1.250</td>\n",
       "      <td>100.020</td>\n",
       "      <td>100.024</td>\n",
       "      <td>-0.010</td>\n",
       "      <td>0.0994</td>\n",
       "    </tr>\n",
       "    <tr>\n",
       "      <th>2</th>\n",
       "      <td>10/31/21</td>\n",
       "      <td>1.500</td>\n",
       "      <td>100.024</td>\n",
       "      <td>100.030</td>\n",
       "      <td>-0.010</td>\n",
       "      <td>0.1191</td>\n",
       "    </tr>\n",
       "    <tr>\n",
       "      <th>3</th>\n",
       "      <td>10/31/21</td>\n",
       "      <td>2.000</td>\n",
       "      <td>100.034</td>\n",
       "      <td>100.040</td>\n",
       "      <td>-0.012</td>\n",
       "      <td>0.1590</td>\n",
       "    </tr>\n",
       "    <tr>\n",
       "      <th>4</th>\n",
       "      <td>11/15/21</td>\n",
       "      <td>2.000</td>\n",
       "      <td>100.062</td>\n",
       "      <td>100.066</td>\n",
       "      <td>-0.012</td>\n",
       "      <td>0.0590</td>\n",
       "    </tr>\n",
       "  </tbody>\n",
       "</table>\n",
       "</div>"
      ],
      "text/plain": [
       "   MATURITY  COUPON      BID    ASKED    CHG  ASKED YIELD\n",
       "0  10/15/21   2.875  100.016  100.022 -0.014       0.0154\n",
       "1  10/31/21   1.250  100.020  100.024 -0.010       0.0994\n",
       "2  10/31/21   1.500  100.024  100.030 -0.010       0.1191\n",
       "3  10/31/21   2.000  100.034  100.040 -0.012       0.1590\n",
       "4  11/15/21   2.000  100.062  100.066 -0.012       0.0590"
      ]
     },
     "execution_count": 14,
     "metadata": {},
     "output_type": "execute_result"
    }
   ],
   "source": [
    "## read in bonds data\n",
    "## access date: 10/6/21\n",
    "realbond = pd.read_csv('treasuries10.6.csv')\n",
    "realbond.head()"
   ]
  },
  {
   "cell_type": "code",
   "execution_count": 15,
   "id": "d9528dd2",
   "metadata": {},
   "outputs": [],
   "source": [
    "## define a function to only return month and date of the bond\n",
    "def monthdate(i):\n",
    "    i = str(i) \n",
    "    return i[:-3]\n",
    "\n",
    "## define a function to only return year of the bond\n",
    "def year(i):\n",
    "    i = str(i)\n",
    "    return i[-2:]"
   ]
  },
  {
   "cell_type": "code",
   "execution_count": 16,
   "id": "b2700309",
   "metadata": {},
   "outputs": [
    {
     "data": {
      "text/html": [
       "<div>\n",
       "<style scoped>\n",
       "    .dataframe tbody tr th:only-of-type {\n",
       "        vertical-align: middle;\n",
       "    }\n",
       "\n",
       "    .dataframe tbody tr th {\n",
       "        vertical-align: top;\n",
       "    }\n",
       "\n",
       "    .dataframe thead th {\n",
       "        text-align: right;\n",
       "    }\n",
       "</style>\n",
       "<table border=\"1\" class=\"dataframe\">\n",
       "  <thead>\n",
       "    <tr style=\"text-align: right;\">\n",
       "      <th></th>\n",
       "      <th>MATURITY</th>\n",
       "      <th>COUPON</th>\n",
       "      <th>BID</th>\n",
       "      <th>ASKED</th>\n",
       "      <th>CHG</th>\n",
       "      <th>ASKED YIELD</th>\n",
       "      <th>monthdate</th>\n",
       "      <th>year</th>\n",
       "    </tr>\n",
       "  </thead>\n",
       "  <tbody>\n",
       "    <tr>\n",
       "      <th>44</th>\n",
       "      <td>8/15/22</td>\n",
       "      <td>1.500</td>\n",
       "      <td>101.064</td>\n",
       "      <td>101.070</td>\n",
       "      <td>-0.010</td>\n",
       "      <td>0.080</td>\n",
       "      <td>8/15</td>\n",
       "      <td>22</td>\n",
       "    </tr>\n",
       "    <tr>\n",
       "      <th>45</th>\n",
       "      <td>8/15/22</td>\n",
       "      <td>1.625</td>\n",
       "      <td>101.100</td>\n",
       "      <td>101.104</td>\n",
       "      <td>-0.006</td>\n",
       "      <td>0.078</td>\n",
       "      <td>8/15</td>\n",
       "      <td>22</td>\n",
       "    </tr>\n",
       "    <tr>\n",
       "      <th>46</th>\n",
       "      <td>8/15/22</td>\n",
       "      <td>7.250</td>\n",
       "      <td>106.040</td>\n",
       "      <td>106.044</td>\n",
       "      <td>-0.020</td>\n",
       "      <td>0.094</td>\n",
       "      <td>8/15</td>\n",
       "      <td>22</td>\n",
       "    </tr>\n",
       "    <tr>\n",
       "      <th>96</th>\n",
       "      <td>8/15/23</td>\n",
       "      <td>0.125</td>\n",
       "      <td>99.242</td>\n",
       "      <td>99.246</td>\n",
       "      <td>-0.012</td>\n",
       "      <td>0.247</td>\n",
       "      <td>8/15</td>\n",
       "      <td>23</td>\n",
       "    </tr>\n",
       "    <tr>\n",
       "      <th>97</th>\n",
       "      <td>8/15/23</td>\n",
       "      <td>2.500</td>\n",
       "      <td>104.052</td>\n",
       "      <td>104.056</td>\n",
       "      <td>-0.014</td>\n",
       "      <td>0.245</td>\n",
       "      <td>8/15</td>\n",
       "      <td>23</td>\n",
       "    </tr>\n",
       "  </tbody>\n",
       "</table>\n",
       "</div>"
      ],
      "text/plain": [
       "   MATURITY  COUPON      BID    ASKED    CHG  ASKED YIELD monthdate year\n",
       "44  8/15/22   1.500  101.064  101.070 -0.010        0.080      8/15   22\n",
       "45  8/15/22   1.625  101.100  101.104 -0.006        0.078      8/15   22\n",
       "46  8/15/22   7.250  106.040  106.044 -0.020        0.094      8/15   22\n",
       "96  8/15/23   0.125   99.242   99.246 -0.012        0.247      8/15   23\n",
       "97  8/15/23   2.500  104.052  104.056 -0.014        0.245      8/15   23"
      ]
     },
     "execution_count": 16,
     "metadata": {},
     "output_type": "execute_result"
    }
   ],
   "source": [
    "## create new columns by apply the functions on each value of maturity\n",
    "realbond['monthdate'] = realbond['MATURITY'].map(monthdate)\n",
    "realbond['year'] = realbond['MATURITY'].map(year)\n",
    "\n",
    "## select the data wheich month date equal to 8/15\n",
    "df = realbond[realbond['monthdate'] == \"8/15\"]\n",
    "df.head()"
   ]
  },
  {
   "cell_type": "code",
   "execution_count": 17,
   "id": "cef4e3cd",
   "metadata": {},
   "outputs": [
    {
     "data": {
      "text/html": [
       "<div>\n",
       "<style scoped>\n",
       "    .dataframe tbody tr th:only-of-type {\n",
       "        vertical-align: middle;\n",
       "    }\n",
       "\n",
       "    .dataframe tbody tr th {\n",
       "        vertical-align: top;\n",
       "    }\n",
       "\n",
       "    .dataframe thead th {\n",
       "        text-align: right;\n",
       "    }\n",
       "</style>\n",
       "<table border=\"1\" class=\"dataframe\">\n",
       "  <thead>\n",
       "    <tr style=\"text-align: right;\">\n",
       "      <th></th>\n",
       "      <th>Price</th>\n",
       "      <th>Coupon</th>\n",
       "      <th>StartTime</th>\n",
       "      <th>Maturity</th>\n",
       "    </tr>\n",
       "  </thead>\n",
       "  <tbody>\n",
       "    <tr>\n",
       "      <th>0</th>\n",
       "      <td>101.070</td>\n",
       "      <td>1.500</td>\n",
       "      <td>0</td>\n",
       "      <td>1</td>\n",
       "    </tr>\n",
       "    <tr>\n",
       "      <th>1</th>\n",
       "      <td>101.104</td>\n",
       "      <td>1.625</td>\n",
       "      <td>0</td>\n",
       "      <td>1</td>\n",
       "    </tr>\n",
       "    <tr>\n",
       "      <th>2</th>\n",
       "      <td>106.044</td>\n",
       "      <td>7.250</td>\n",
       "      <td>0</td>\n",
       "      <td>1</td>\n",
       "    </tr>\n",
       "    <tr>\n",
       "      <th>3</th>\n",
       "      <td>99.246</td>\n",
       "      <td>0.125</td>\n",
       "      <td>0</td>\n",
       "      <td>2</td>\n",
       "    </tr>\n",
       "    <tr>\n",
       "      <th>4</th>\n",
       "      <td>104.056</td>\n",
       "      <td>2.500</td>\n",
       "      <td>0</td>\n",
       "      <td>2</td>\n",
       "    </tr>\n",
       "    <tr>\n",
       "      <th>5</th>\n",
       "      <td>111.050</td>\n",
       "      <td>6.250</td>\n",
       "      <td>0</td>\n",
       "      <td>2</td>\n",
       "    </tr>\n",
       "    <tr>\n",
       "      <th>6</th>\n",
       "      <td>99.204</td>\n",
       "      <td>0.375</td>\n",
       "      <td>0</td>\n",
       "      <td>3</td>\n",
       "    </tr>\n",
       "    <tr>\n",
       "      <th>7</th>\n",
       "      <td>105.114</td>\n",
       "      <td>2.375</td>\n",
       "      <td>0</td>\n",
       "      <td>3</td>\n",
       "    </tr>\n",
       "    <tr>\n",
       "      <th>8</th>\n",
       "      <td>104.242</td>\n",
       "      <td>2.000</td>\n",
       "      <td>0</td>\n",
       "      <td>4</td>\n",
       "    </tr>\n",
       "    <tr>\n",
       "      <th>9</th>\n",
       "      <td>123.126</td>\n",
       "      <td>6.875</td>\n",
       "      <td>0</td>\n",
       "      <td>4</td>\n",
       "    </tr>\n",
       "    <tr>\n",
       "      <th>10</th>\n",
       "      <td>102.186</td>\n",
       "      <td>1.500</td>\n",
       "      <td>0</td>\n",
       "      <td>5</td>\n",
       "    </tr>\n",
       "    <tr>\n",
       "      <th>11</th>\n",
       "      <td>127.180</td>\n",
       "      <td>6.750</td>\n",
       "      <td>0</td>\n",
       "      <td>5</td>\n",
       "    </tr>\n",
       "    <tr>\n",
       "      <th>12</th>\n",
       "      <td>106.094</td>\n",
       "      <td>2.250</td>\n",
       "      <td>0</td>\n",
       "      <td>6</td>\n",
       "    </tr>\n",
       "    <tr>\n",
       "      <th>13</th>\n",
       "      <td>129.306</td>\n",
       "      <td>6.375</td>\n",
       "      <td>0</td>\n",
       "      <td>6</td>\n",
       "    </tr>\n",
       "    <tr>\n",
       "      <th>14</th>\n",
       "      <td>110.142</td>\n",
       "      <td>2.875</td>\n",
       "      <td>0</td>\n",
       "      <td>7</td>\n",
       "    </tr>\n",
       "    <tr>\n",
       "      <th>15</th>\n",
       "      <td>127.250</td>\n",
       "      <td>5.500</td>\n",
       "      <td>0</td>\n",
       "      <td>7</td>\n",
       "    </tr>\n",
       "    <tr>\n",
       "      <th>16</th>\n",
       "      <td>101.266</td>\n",
       "      <td>1.625</td>\n",
       "      <td>0</td>\n",
       "      <td>8</td>\n",
       "    </tr>\n",
       "    <tr>\n",
       "      <th>17</th>\n",
       "      <td>135.242</td>\n",
       "      <td>6.125</td>\n",
       "      <td>0</td>\n",
       "      <td>8</td>\n",
       "    </tr>\n",
       "  </tbody>\n",
       "</table>\n",
       "</div>"
      ],
      "text/plain": [
       "      Price  Coupon  StartTime  Maturity\n",
       "0   101.070   1.500          0         1\n",
       "1   101.104   1.625          0         1\n",
       "2   106.044   7.250          0         1\n",
       "3    99.246   0.125          0         2\n",
       "4   104.056   2.500          0         2\n",
       "5   111.050   6.250          0         2\n",
       "6    99.204   0.375          0         3\n",
       "7   105.114   2.375          0         3\n",
       "8   104.242   2.000          0         4\n",
       "9   123.126   6.875          0         4\n",
       "10  102.186   1.500          0         5\n",
       "11  127.180   6.750          0         5\n",
       "12  106.094   2.250          0         6\n",
       "13  129.306   6.375          0         6\n",
       "14  110.142   2.875          0         7\n",
       "15  127.250   5.500          0         7\n",
       "16  101.266   1.625          0         8\n",
       "17  135.242   6.125          0         8"
      ]
     },
     "execution_count": 17,
     "metadata": {},
     "output_type": "execute_result"
    }
   ],
   "source": [
    "## add Price, Coupon, StartTime, Maturity to Df\n",
    "df['Price'] = df['ASKED']\n",
    "df['Coupon'] = df['COUPON']\n",
    "df['StartTime'] = 0\n",
    "\n",
    "# define a funtion to transform year to year to maturity\n",
    "def maturity(i):\n",
    "    maturity = int(i)-21\n",
    "    return maturity\n",
    "df['Maturity'] = df['year'].map(maturity)\n",
    "\n",
    "## select those bond that maturity less or equal than 8 years \n",
    "df = df[df['Maturity'] <= 8]\n",
    "\n",
    "# reset index\n",
    "df = df.reset_index()\n",
    "\n",
    "## transform wsj data to the format of previous bond data\n",
    "realbond_transformed  = df[['Price','Coupon','StartTime','Maturity']]\n",
    "realbond_transformed"
   ]
  },
  {
   "cell_type": "code",
   "execution_count": 18,
   "id": "75dd1bbc",
   "metadata": {},
   "outputs": [
    {
     "data": {
      "text/plain": [
       "18"
      ]
     },
     "execution_count": 18,
     "metadata": {},
     "output_type": "execute_result"
    }
   ],
   "source": [
    "## start solving optimal strategy\n",
    "## set number of variables\n",
    "## in our case, all bond options are variables\n",
    "NumVar = len(realbond_transformed)\n",
    "NumVar"
   ]
  },
  {
   "cell_type": "code",
   "execution_count": 19,
   "id": "b877994c",
   "metadata": {},
   "outputs": [
    {
     "data": {
      "text/plain": [
       "array([101.07 , 101.104, 106.044,  99.246, 104.056, 111.05 ,  99.204,\n",
       "       105.114, 104.242, 123.126, 102.186, 127.18 , 106.094, 129.306,\n",
       "       110.142, 127.25 , 101.266, 135.242])"
      ]
     },
     "execution_count": 19,
     "metadata": {},
     "output_type": "execute_result"
    }
   ],
   "source": [
    "## set up objective vectors\n",
    "## the object vectors are the cashflow we need to pay at year=0 for each bond/forward\n",
    "## there is no forwards ao all greater than zero\n",
    "obj = getobj(realbond_transformed)\n",
    "obj = np.array(obj)\n",
    "obj"
   ]
  },
  {
   "cell_type": "code",
   "execution_count": 20,
   "id": "26396950",
   "metadata": {},
   "outputs": [
    {
     "data": {
      "text/plain": [
       "(8, 18)"
      ]
     },
     "execution_count": 20,
     "metadata": {},
     "output_type": "execute_result"
    }
   ],
   "source": [
    "## set up constraint\n",
    "## in our case, we want to make sure the case flow for each year \n",
    "## is greater or equal than the liability of this year\n",
    "A = getA(realbond_transformed, n)\n",
    "\n",
    "## check shape of constraint matrix\n",
    "## # of columns = # of variables\n",
    "## # of rows = # of years\n",
    "A.shape"
   ]
  },
  {
   "cell_type": "code",
   "execution_count": 21,
   "id": "3cd4801c",
   "metadata": {},
   "outputs": [],
   "source": [
    "## set up constraint on the right hand side (lower limits)\n",
    "b = np.array(liabilities['Liability'])\n",
    "\n",
    "## all constraints are greater than or equal constraints\n",
    "sense = np.array(['>']*len(liabilities))"
   ]
  },
  {
   "cell_type": "code",
   "execution_count": 22,
   "id": "98735429",
   "metadata": {},
   "outputs": [
    {
     "name": "stdout",
     "output_type": "stream",
     "text": [
      "year = 0 cashflow: 11718336.86\n",
      "Number of each bond we buy at year = 0:\n",
      "[    0.       0.    6376.46     0.       0.   12838.75     0.   15641.17\n",
      "     0.   16012.65     0.   13113.52     0.   12998.68     0.   10827.35\n",
      "     0.    9422.85]\n"
     ]
    }
   ],
   "source": [
    "## find the optmal strategy for real bond\n",
    "x,y = solveoptimal(NumVar, A, obj, sense, b)"
   ]
  },
  {
   "cell_type": "code",
   "execution_count": 23,
   "id": "68348a9f",
   "metadata": {},
   "outputs": [],
   "source": [
    "## create b list to store how much money put in each bond at year 0\n",
    "bondlist = []\n",
    "for i in range(NumVar):\n",
    "    total = x[i]*realbond_transformed['Price'][i]\n",
    "    bondlist.append(total)"
   ]
  },
  {
   "cell_type": "code",
   "execution_count": 24,
   "id": "9b615415",
   "metadata": {},
   "outputs": [
    {
     "data": {
      "image/png": "[encoded data removed]",
      "text/plain": [
       "<Figure size 864x720 with 1 Axes>"
      ]
     },
     "metadata": {},
     "output_type": "display_data"
    }
   ],
   "source": [
    "## create par chart to how much money put in each bond at year 0\n",
    "bond = ['bond1', 'bond2', 'bond3','bond4','bond5','bond6','bond7','bond8','bond9','bond10','bond11','bond12','bond13','bond14','bond15','bond16','bond17','bond18']\n",
    "dictionary = dict(zip(bond,bondlist))\n",
    "\n",
    "names = [key for key,value in dictionary.items() if value!=0]\n",
    "values = [value for value in dictionary.values() if value!=0]\n",
    "\n",
    "## creating plot\n",
    "fig = plt.figure(figsize =(12,10))\n",
    "plt.title('Money put in each bond at year = 0')\n",
    "plt.pie(values, labels=names, autopct=lambda p : '{:.2f}%  ({:,.0f})'.format(p,p * sum(bondlist)/100))\n",
    "plt.show()"
   ]
  },
  {
   "cell_type": "code",
   "execution_count": 25,
   "id": "ecf900d1",
   "metadata": {},
   "outputs": [
    {
     "data": {
      "text/plain": [
       "<AxesSubplot:title={'center':'Cash inflow from bond every year compared to liability'}, ylabel='US Dollar$'>"
      ]
     },
     "execution_count": 25,
     "metadata": {},
     "output_type": "execute_result"
    },
    {
     "data": {
      "image/png": "[encoded data removed]",
      "text/plain": [
       "<Figure size 864x576 with 1 Axes>"
      ]
     },
     "metadata": {
      "needs_background": "light"
     },
     "output_type": "display_data"
    }
   ],
   "source": [
    "## compute each year's cashflow from bond\n",
    "CF = A @ x\n",
    "\n",
    "## create the line chart and bar chart on the same graph\n",
    "## this graph is used to to check if all years' liability got coverd by bonds' cash inflow\n",
    "## we can see every year there is a binding constraint\n",
    "CFcomparison = pd.DataFrame({'liability': b,'bond': CF})\n",
    "## start from year 1\n",
    "CFcomparison.index += 1 \n",
    "\n",
    "## creating the plot\n",
    "ax = CFcomparison.plot.bar(y='liability', color = 'y', ylabel='US Dollar$', figsize=(12, 8))\n",
    "plt.title('Cash inflow from bond every year compared to liability')\n",
    "CFcomparison.plot(y='bond', marker='d', color =\"r\", ax=ax, use_index=False, mark_right=False)"
   ]
  }
 ],
 "metadata": {
  "kernelspec": {
   "display_name": "Python 3",
   "language": "python",
   "name": "python3"
  },
  "language_info": {
   "codemirror_mode": {
    "name": "ipython",
    "version": 3
   },
   "file_extension": ".py",
   "mimetype": "text/x-python",
   "name": "python",
   "nbconvert_exporter": "python",
   "pygments_lexer": "ipython3",
   "version": "3.8.8"
  }
 },
 "nbformat": 4,
 "nbformat_minor": 5
}
