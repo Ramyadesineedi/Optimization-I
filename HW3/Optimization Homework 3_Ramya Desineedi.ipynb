{
 "cells": [
  {
   "cell_type": "code",
   "execution_count": 1,
   "metadata": {},
   "outputs": [],
   "source": [
    "import numpy as np\n",
    "import gurobipy as gp"
   ]
  },
  {
   "cell_type": "markdown",
   "metadata": {},
   "source": [
    "# Question 2 - Factory and Warehouse in Austin, Dallas"
   ]
  },
  {
   "cell_type": "code",
   "execution_count": 2,
   "metadata": {},
   "outputs": [
    {
     "name": "stdout",
     "output_type": "stream",
     "text": [
      "[[6. 3. 5. 2.]\n",
      " [1. 1. 0. 0.]\n",
      " [0. 0. 1. 1.]] [11  1  1]\n"
     ]
    }
   ],
   "source": [
    "#max 9fa+5fd+6wa+4wd\n",
    "obj = np.array([9,5,6,4])\n",
    "\n",
    "A = np.zeros((3,4))\n",
    "#Capital Needed\n",
    "A[0,:] = [6,3,5,2]\n",
    "#Factory\n",
    "A[1,:] = [1,1,0,0]\n",
    "#Warehouse\n",
    "A[2,:] = [0,0,1,1]\n",
    "\n",
    "b = np.array([11,1,1])\n",
    "sense = ['<','>','<']\n",
    "\n",
    "print(A,b)"
   ]
  },
  {
   "cell_type": "code",
   "execution_count": 3,
   "metadata": {},
   "outputs": [
    {
     "name": "stdout",
     "output_type": "stream",
     "text": [
      "Academic license - for non-commercial use only - expires 2022-09-03\n",
      "Using license file /Users/ramya/gurobi.lic\n"
     ]
    }
   ],
   "source": [
    "ipMod = gp.Model()\n",
    "ipMod_x = ipMod.addMVar(len(obj),vtype=['B']*len(obj)) # 'C' or 'I' or 'B'\n",
    "ipMod_con = ipMod.addMConstrs(A, ipMod_x, sense, b)\n",
    "ipMod.setMObjective(None,obj,0,sense=gp.GRB.MAXIMIZE)\n",
    "\n",
    "ipMod.Params.OutputFlag = 0 # tell gurobi to shut up!!\n",
    "ipMod.optimize()"
   ]
  },
  {
   "cell_type": "code",
   "execution_count": 4,
   "metadata": {},
   "outputs": [
    {
     "data": {
      "text/plain": [
       "array([1., 1., 0., 1.])"
      ]
     },
     "execution_count": 4,
     "metadata": {},
     "output_type": "execute_result"
    }
   ],
   "source": [
    "ipMod_x.x"
   ]
  },
  {
   "cell_type": "markdown",
   "metadata": {},
   "source": [
    "Answer: Factory in Dallas is part of optimal investment startegy"
   ]
  },
  {
   "cell_type": "markdown",
   "metadata": {},
   "source": [
    "# Question 3 - Western Airlines Hub"
   ]
  },
  {
   "cell_type": "code",
   "execution_count": 5,
   "metadata": {},
   "outputs": [],
   "source": [
    "#Minimize number of Hubs\n",
    "obj = np.array([1,1,1,1,1,1,1,1,1,1,1,1])\n",
    "A = np.zeros([12,12])\n",
    "A[0,:] =  [1,0,1,0,1,0,1,1,1,0,0,0]\n",
    "A[1,:] =  [0,1,0,0,0,0,0,1,1,0,0,0]\n",
    "A[2,:] =  [1,0,1,0,0,0,1,1,1,0,0,0]\n",
    "A[3,:] =  [0,0,0,1,0,0,0,0,0,1,0,0]\n",
    "A[4,:] =  [1,0,0,0,1,0,1,0,0,0,0,0]\n",
    "A[5,:] =  [0,0,0,0,0,1,0,0,0,1,1,0]\n",
    "A[6,:] =  [1,0,1,0,1,0,1,0,0,0,0,0]\n",
    "A[7,:] =  [1,1,1,0,0,0,0,1,1,0,0,0]\n",
    "A[8,:] =  [1,1,1,0,0,0,0,1,1,0,0,0]\n",
    "#SLC\n",
    "A[9,:] =  [0,0,0,1,0,1,0,0,0,1,1,1]\n",
    "A[10,:] = [0,0,0,0,0,1,0,0,0,1,1,1]\n",
    "A[11,:] = [0,0,0,0,0,0,0,0,0,1,1,1]\n",
    "b = np.array([1]*12)\n",
    "sense = ['>']*12"
   ]
  },
  {
   "cell_type": "code",
   "execution_count": 6,
   "metadata": {},
   "outputs": [],
   "source": [
    "ipMod = gp.Model()\n",
    "ipMod_x = ipMod.addMVar(len(obj),vtype=['B']*len(obj))\n",
    "ipMod_con = ipMod.addMConstrs(A, ipMod_x, sense, b)\n",
    "ipMod.setMObjective(None,obj,0,sense=gp.GRB.MINIMIZE)\n",
    "ipMod.Params.OutputFlag = 0\n",
    "ipMod.optimize()"
   ]
  },
  {
   "cell_type": "code",
   "execution_count": 7,
   "metadata": {},
   "outputs": [
    {
     "data": {
      "text/plain": [
       "[1.0, 0.0, 0.0, 0.0, 0.0, 0.0, 0.0, 0.0, 1.0, 1.0, 0.0, 0.0]"
      ]
     },
     "execution_count": 7,
     "metadata": {},
     "output_type": "execute_result"
    }
   ],
   "source": [
    "ipMod.x"
   ]
  },
  {
   "cell_type": "markdown",
   "metadata": {},
   "source": [
    "Answer: SLC which is in 10th position in this list is a Hub in the optimal solution"
   ]
  },
  {
   "cell_type": "code",
   "execution_count": null,
   "metadata": {},
   "outputs": [],
   "source": []
  },
  {
   "cell_type": "markdown",
   "metadata": {},
   "source": [
    "# Question 4 - Paper Mill"
   ]
  },
  {
   "cell_type": "code",
   "execution_count": 8,
   "metadata": {},
   "outputs": [],
   "source": [
    "obj = np.array([20,9,12,8,16,4,21])\n",
    "A = np.zeros((3,7))\n",
    "#25 inches\n",
    "A[0,:] = [4,0,0,3,2,1,1]\n",
    "#37 inches\n",
    "A[1,:] = [0,3,0,1,0,1,2]\n",
    "#54 inches\n",
    "A[2,:] = [0,0,2,0,1,1,0]\n",
    "b = np.array([233,148,106])\n",
    "sense = ['>']*3"
   ]
  },
  {
   "cell_type": "code",
   "execution_count": 9,
   "metadata": {},
   "outputs": [],
   "source": [
    "ipMod = gp.Model()\n",
    "ipMod_x = ipMod.addMVar(len(obj),vtype=['I']*len(obj)) \n",
    "ipMod_con = ipMod.addMConstrs(A, ipMod_x, sense, b)\n",
    "ipMod.setMObjective(None,obj,0,sense=gp.GRB.MINIMIZE)\n",
    "\n",
    "ipMod.Params.OutputFlag = 0 \n",
    "ipMod.optimize()"
   ]
  },
  {
   "cell_type": "code",
   "execution_count": 10,
   "metadata": {},
   "outputs": [
    {
     "data": {
      "text/plain": [
       "array([  0.,  -0.,  -0.,  42.,  -0., 107.,  -0.])"
      ]
     },
     "execution_count": 10,
     "metadata": {},
     "output_type": "execute_result"
    }
   ],
   "source": [
    "ipMod_x.x "
   ]
  },
  {
   "cell_type": "markdown",
   "metadata": {},
   "source": [
    "Answer: 42 rolls needs to be cut into the pattern such that there are 3 cuts of 25 inches, and 1 cut of 37 inches "
   ]
  },
  {
   "cell_type": "code",
   "execution_count": null,
   "metadata": {},
   "outputs": [],
   "source": []
  },
  {
   "cell_type": "markdown",
   "metadata": {},
   "source": [
    "# Question 5 - Daysoff scheduling"
   ]
  },
  {
   "cell_type": "code",
   "execution_count": 11,
   "metadata": {},
   "outputs": [
    {
     "name": "stdout",
     "output_type": "stream",
     "text": [
      "[[1. 0. 0. 1. 1. 1. 1.]\n",
      " [1. 1. 0. 0. 1. 1. 1.]\n",
      " [1. 1. 1. 0. 0. 1. 1.]\n",
      " [1. 1. 1. 1. 0. 0. 1.]\n",
      " [1. 1. 1. 1. 1. 0. 0.]\n",
      " [0. 1. 1. 1. 1. 1. 0.]\n",
      " [0. 0. 1. 1. 1. 1. 1.]] [ 5 13 12 10 14  8  6]\n"
     ]
    }
   ],
   "source": [
    "#Minimizing cost of employement\n",
    "obj = np.array([330,300,330,360,360,360,360])\n",
    "A = np.zeros((7,7))\n",
    "#Sun-Thurs\n",
    "A[0,:] = [1,0,0,1,1,1,1]\n",
    "#Mon-Fri\n",
    "A[1,:] = [1,1,0,0,1,1,1]\n",
    "#Tues-Sat\n",
    "A[2,:] = [1,1,1,0,0,1,1]\n",
    "#Wed-Sun\n",
    "A[3,:] = [1,1,1,1,0,0,1]\n",
    "#Thurs-Mon\n",
    "A[4,:] = [1,1,1,1,1,0,0]\n",
    "#Fri-Tue\n",
    "A[5,:] = [0,1,1,1,1,1,0]\n",
    "#Sat-Wed\n",
    "A[6,:] = [0,0,1,1,1,1,1]\n",
    "\n",
    "#Requirement\n",
    "b = np.array([5,13,12,10,14,8,6])\n",
    "sense = ['>']*7\n",
    "print(A,b)"
   ]
  },
  {
   "cell_type": "code",
   "execution_count": 12,
   "metadata": {},
   "outputs": [],
   "source": [
    "ipMod = gp.Model()\n",
    "ipMod_x = ipMod.addMVar(len(obj),vtype=['I']*len(obj))\n",
    "ipMod_con = ipMod.addMConstrs(A, ipMod_x, sense, b)\n",
    "ipMod.setMObjective(None,obj,0,sense=gp.GRB.MINIMIZE)\n",
    "ipMod.Params.OutputFlag = 0 \n",
    "ipMod.optimize()"
   ]
  },
  {
   "cell_type": "code",
   "execution_count": 13,
   "metadata": {},
   "outputs": [
    {
     "data": {
      "text/plain": [
       "[1.0, 8.0, 2.0, -0.0, 3.0, 1.0, -0.0]"
      ]
     },
     "execution_count": 13,
     "metadata": {},
     "output_type": "execute_result"
    }
   ],
   "source": [
    "ipMod.x"
   ]
  },
  {
   "cell_type": "markdown",
   "metadata": {},
   "source": [
    "8 employees needs to work from Monday-friday"
   ]
  },
  {
   "cell_type": "code",
   "execution_count": null,
   "metadata": {},
   "outputs": [],
   "source": []
  }
 ],
 "metadata": {
  "kernelspec": {
   "display_name": "Python 3 (ipykernel)",
   "language": "python",
   "name": "python3"
  },
  "language_info": {
   "codemirror_mode": {
    "name": "ipython",
    "version": 3
   },
   "file_extension": ".py",
   "mimetype": "text/x-python",
   "name": "python",
   "nbconvert_exporter": "python",
   "pygments_lexer": "ipython3",
   "version": "3.8.5"
  }
 },
 "nbformat": 4,
 "nbformat_minor": 2
}
