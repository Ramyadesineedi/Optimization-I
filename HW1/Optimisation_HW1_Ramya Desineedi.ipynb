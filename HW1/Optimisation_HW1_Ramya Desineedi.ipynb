{
 "cells": [
  {
   "cell_type": "markdown",
   "metadata": {},
   "source": [
    "## Question 1 - Bank"
   ]
  },
  {
   "cell_type": "code",
   "execution_count": 2,
   "metadata": {},
   "outputs": [
    {
     "name": "stdout",
     "output_type": "stream",
     "text": [
      "A matrix: [[1, 1, 1, 1], [0.14, 0.2, 0.2, 0.1], [0, 1, 0, 0], [45, -55, 0, 0]]\n",
      "\n",
      "\n",
      "b matrix: [250, 37.5, 62.5, 0]\n",
      "\n",
      "\n",
      "Amount lent in Home improvement loans (20% interest rate) fund in thousands of dollars: 31.94\n"
     ]
    }
   ],
   "source": [
    "import numpy as np\n",
    "A = [[1,1,1,1], \n",
    "    [0.14,0.2,0.2,0.1],\n",
    "    [0,1,0,0],\n",
    "    [45,-55,0,0]]\n",
    "print(\"A matrix:\", A)\n",
    "print(\"\\n\")\n",
    "\n",
    "b = [250,37.5,62.5,0]\n",
    "print(\"b matrix:\", b)\n",
    "print(\"\\n\")\n",
    "\n",
    "#Solving for X\n",
    "x = np.linalg.solve(A,b)\n",
    "print(\"Amount lent in Home improvement loans (20% interest rate) fund in thousands of dollars:\", round(x[2],2))"
   ]
  },
  {
   "cell_type": "markdown",
   "metadata": {},
   "source": [
    "## Question 2 - Rankings"
   ]
  },
  {
   "cell_type": "code",
   "execution_count": 3,
   "metadata": {},
   "outputs": [
    {
     "data": {
      "text/plain": [
       "array([-24.8,  18.2,  -8. ,  -3.4,  18. ])"
      ]
     },
     "execution_count": 3,
     "metadata": {},
     "output_type": "execute_result"
    }
   ],
   "source": [
    "A=[[-1,1,0,0,0],\n",
    "   [-1,0,1,0,0],\n",
    "   [-1,0,0,1,0],\n",
    "   [-1,0,0,0,1],\n",
    "   [0,-1,1,0,0],\n",
    "   [0,-1,0,1,0],\n",
    "   [0,-1,0,0,1],\n",
    "   [0,0,-1,1,0],\n",
    "   [0,0,-1,0,1],\n",
    "   [0,0,0,-1,1]]\n",
    "\n",
    "# Difference in scores of each game\n",
    "b=[45,3,31,45,-18,-8,-20,-2,27,38]\n",
    "\n",
    "\n",
    "AT=np.transpose(A)\n",
    "M=np.matmul(AT,A)\n",
    "p=np.matmul(AT,b)\n",
    "\n",
    "M[4]=[1,1,1,1,1]\n",
    "p[4]=0\n",
    "\n",
    "#Solving for X\n",
    "X=np.linalg.solve(M,p)\n",
    "X"
   ]
  },
  {
   "cell_type": "markdown",
   "metadata": {},
   "source": [
    "#### Team 5 is 2nd best"
   ]
  },
  {
   "cell_type": "markdown",
   "metadata": {},
   "source": [
    "## Question 3 - Lehmer matrix"
   ]
  },
  {
   "cell_type": "code",
   "execution_count": 5,
   "metadata": {},
   "outputs": [
    {
     "data": {
      "text/plain": [
       "array([[1.        , 0.5       , 0.33333333, 0.25      ],\n",
       "       [0.5       , 1.        , 0.66666667, 0.5       ],\n",
       "       [0.33333333, 0.66666667, 1.        , 0.75      ],\n",
       "       [0.25      , 0.5       , 0.75      , 1.        ]])"
      ]
     },
     "execution_count": 5,
     "metadata": {},
     "output_type": "execute_result"
    }
   ],
   "source": [
    "import numpy as np\n",
    "def lehmer_matrix(n):\n",
    "    A = np.zeros([n, n])\n",
    "    for i in range(n):\n",
    "        for j in range(n):\n",
    "            if j>=i:\n",
    "                A[i,j]=(i+1)/(j+1)\n",
    "            else:\n",
    "                A[i,j]=(j+1)/(i+1)\n",
    "                \n",
    "    return(A)\n",
    "        \n",
    "\n",
    "#Test case    \n",
    "lehmer_matrix(4)        \n",
    "        "
   ]
  },
  {
   "cell_type": "markdown",
   "metadata": {},
   "source": [
    "## Question 4"
   ]
  },
  {
   "cell_type": "code",
   "execution_count": 11,
   "metadata": {},
   "outputs": [
    {
     "data": {
      "text/plain": [
       "[1, 2, 3, 4, 5, 6, 7, 8, 9, 10, 10, 9, 8, 7, 6, 5, 4, 3, 2, 1]"
      ]
     },
     "execution_count": 11,
     "metadata": {},
     "output_type": "execute_result"
    }
   ],
   "source": [
    "lst = [i for i in range(1,10+1)]\n",
    "lst2 = lst[::-1]\n",
    "d = lst + lst2\n",
    "d"
   ]
  },
  {
   "cell_type": "code",
   "execution_count": 22,
   "metadata": {},
   "outputs": [
    {
     "name": "stdout",
     "output_type": "stream",
     "text": [
      "[-4.58892184e-15  1.57503640e-14 -2.94621470e-14  3.30458764e-14\n",
      " -8.11023527e-14  1.35127341e-13  3.18833279e-14 -1.89478063e-13\n",
      " -2.48120301e+01  2.00642393e+01  3.58137507e+01 -3.00626280e+01\n",
      " -3.73699569e-04 -2.77204400e-04 -2.09968770e-04 -1.61954092e-04\n",
      " -1.26922827e-04 -1.00877937e-04  9.50593309e+01 -1.00062903e+02]\n",
      "\n",
      "\n",
      "Value of x10: 20.1\n"
     ]
    }
   ],
   "source": [
    "A = lehmer_matrix(20)  \n",
    "C = np.linalg.inv(A)\n",
    "b = np.matmul(C,d) \n",
    "\n",
    "#Solving for X\n",
    "x = np.linalg.solve(A,b)\n",
    "print(x)\n",
    "print(\"\\n\")\n",
    "print(\"Value of x10:\", round(x[9],1))"
   ]
  }
 ],
 "metadata": {
  "kernelspec": {
   "display_name": "Python 3 (ipykernel)",
   "language": "python",
   "name": "python3"
  },
  "language_info": {
   "codemirror_mode": {
    "name": "ipython",
    "version": 3
   },
   "file_extension": ".py",
   "mimetype": "text/x-python",
   "name": "python",
   "nbconvert_exporter": "python",
   "pygments_lexer": "ipython3",
   "version": "3.8.5"
  }
 },
 "nbformat": 4,
 "nbformat_minor": 4
}
