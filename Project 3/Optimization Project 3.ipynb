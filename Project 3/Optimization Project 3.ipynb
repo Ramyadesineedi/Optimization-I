{
 "cells": [
  {
   "cell_type": "markdown",
   "metadata": {},
   "source": [
    "## Import Libraries"
   ]
  },
  {
   "cell_type": "code",
   "execution_count": 1,
   "metadata": {},
   "outputs": [],
   "source": [
    "import pandas as pd\n",
    "import numpy as np\n",
    "import seaborn as sns\n",
    "import matplotlib.pyplot as plt\n",
    "import gurobipy as gp\n",
    "from tqdm import tqdm\n",
    "from sklearn.linear_model import LassoCV\n",
    "%matplotlib inline"
   ]
  },
  {
   "cell_type": "markdown",
   "metadata": {},
   "source": [
    "## Read Data"
   ]
  },
  {
   "cell_type": "code",
   "execution_count": 2,
   "metadata": {},
   "outputs": [],
   "source": [
    "#Read Data\n",
    "train = pd.read_csv('training_data.csv')\n",
    "test = pd.read_csv('test_data.csv')\n",
    "\n",
    "#Insert Column for Beta 0\n",
    "train.insert(1, 'X0', [1]*len(train))\n",
    "test.insert(1, 'X0', [1]*len(test))\n",
    "train.shape, test.shape\n",
    "\n",
    "#Set Time Limit\n",
    "time_limit = 3000"
   ]
  },
  {
   "cell_type": "markdown",
   "metadata": {},
   "source": [
    "### 2.  In order to do cross validation on the MIQP model you will have to write your own cross  validation code. Randomly shuffle your data and split it into 10 folds. You can use the ‘np.random.choice()’ function in Python to shuffle your data. There are 50 X variables, and you will need to try k = 5, 10, 15, …, 50 in your cross validation. This means to do 10-fold cross validation with all possible values of k, you will have to solve an MIQP model 100 times! Pick the value of k that corresponds to the smallest cross validation error: for a given value of k, sum each validation set’s sum of squared errors using the Betas found using the other 9 folds’ data to solve the MIQP. When k is 5 or 50, gurobi should solve the problem pretty quickly, but when k is 25 it will probably take a long time. Therefore, you should set a time limit for gurobi to solve each problem. Don’t let the entire process run for any longer than 12 hours. Again, be smart about setting this up, so that you can run it once, save the results, and then import those results when you create the final version of your python code and pdf file. Also, set a time limit variable at the very beginning of your python code so that we can shorten the runtime of your code when we grade it.\n",
    "\n",
    "### a. It is very important to remember that gurobi assumes all decision variables are non-negative. In order to allow your Betas to be negative or positive you must set the lb value of your model to be -M for the appropriate decision variables.\n",
    "\n",
    "### b. It is also very important that you choose M to be large enough so that no value of Beta is equal to M or -M. If you solve the problem and one of your Betas is M or -M then you should double M and resolve the problem. Repeat this process until no Beta is equal to M or -M."
   ]
  },
  {
   "cell_type": "code",
   "execution_count": 3,
   "metadata": {},
   "outputs": [],
   "source": [
    "def KFold(data,K=10,shuffle=True,seed=42):\n",
    "    \n",
    "    '''Function to create K-Fold validation Index'''\n",
    "    \n",
    "    #Get Index\n",
    "    train_indx = np.array(data.index)\n",
    "    \n",
    "    #Set Random Seed\n",
    "    np.random.seed(seed)\n",
    "    \n",
    "    #Shuffle Data\n",
    "    if shuffle:\n",
    "        shuffled_index = np.random.choice(train_indx, size=len(train_indx), replace=False)\n",
    "    \n",
    "    #Split and Create Folds\n",
    "    cv_index = np.split(shuffled_index, indices_or_sections= 10)\n",
    "    kfold = [(np.concatenate(np.delete(cv_index,i,axis=0)), cv_index[i]) for i in range(len(cv_index))]\n",
    "    \n",
    "    return kfold"
   ]
  },
  {
   "cell_type": "code",
   "execution_count": 4,
   "metadata": {},
   "outputs": [],
   "source": [
    "def Solver(m_var, A, sense, b, lb = None, ub = None, min_max = 'maximize', vtype = None, Q = None, L = None, C = 0, \n",
    "           show_output = False, time_limit = 3000):\n",
    "    \n",
    "    '''Function to solve quadratic in Gurobi'''\n",
    "    \n",
    "    # Model initialization\n",
    "    model = gp.Model()\n",
    "    \n",
    "    # Variables initialization\n",
    "    modelX = model.addMVar(m_var, lb=lb, ub=ub, vtype=vtype)\n",
    "    \n",
    "    # Constraint intialization\n",
    "    modelConstr = model.addMConstr(A, modelX, sense, b)\n",
    "    \n",
    "    #  objective init\n",
    "    if min_max == 'maximize':\n",
    "        model.setMObjective(Q,L,C,sense=gp.GRB.MAXIMIZE)\n",
    "    if min_max == 'minimize':\n",
    "        model.setMObjective(Q,L,C, sense = gp.GRB.MINIMIZE)\n",
    "    \n",
    "    model.Params.OutputFlag = 0 # restricting output jargon\n",
    "    model.Params.timeLimit = time_limit\n",
    "    \n",
    "    #Run optimizer\n",
    "    model.optimize()\n",
    "    \n",
    "    if show_output:\n",
    "        print(\"\\nobjective value\")\n",
    "        print(model.objVal)\n",
    "        print('-----------------------------------')\n",
    "\n",
    "        print(\"\\nvalues of variable X\")\n",
    "        print(modelX.x)\n",
    "\n",
    "        print('-----------------------------------')\n",
    "    \n",
    "    return modelX.x"
   ]
  },
  {
   "cell_type": "code",
   "execution_count": 5,
   "metadata": {},
   "outputs": [],
   "source": [
    "def MIQP(X, y, M = 2, k = 5, time_limit=3000):\n",
    "    \n",
    "    '''Function to for Beta with a subset of variables'''\n",
    "    \n",
    "    #Get m & n\n",
    "    m = X.shape[1]-1\n",
    "    n = X.shape[0]\n",
    "    q = 2*m+1\n",
    "    \n",
    "    #Quadratic Component\n",
    "    Q = np.zeros((2*m+1,2*m+1))\n",
    "    Q[:(m+1),:(m+1)] = X.T@X\n",
    "    \n",
    "    #Linear Component\n",
    "    L = np.array(list(-2 * y.T @ X) + [0]*m)\n",
    "\n",
    "    ## Constraint Definition\n",
    "    A = np.zeros((q,q))\n",
    "    sense = np.array(['']*q)\n",
    "    b = np.array([0]*q)\n",
    "\n",
    "    #Initialize Counter\n",
    "    row = 0\n",
    "    \n",
    "    # -Mz_j <= b_j\n",
    "    A[row:row+m, 1:m+1] = np.identity(m)\n",
    "    A[row:row+m, m+1:q] = M*np.identity(m)\n",
    "    sense[row:row+m] = ['>']*m\n",
    "    b[row:row+m] = [0]*m    \n",
    "    \n",
    "    #Increment Counter\n",
    "    row+=m\n",
    "    \n",
    "    # b_j <= Mz_j \n",
    "    A[row:row+m, 1:m+1] = np.identity(m)\n",
    "    A[row:row+m, m+1:q] = -1*M*np.identity(m)\n",
    "    sense[row:row+m] = ['<']*m\n",
    "    b[row:row+m] = [0]*m\n",
    "\n",
    "    #Increment Counter\n",
    "    row+=m\n",
    "    \n",
    "    # sum(z_j) = k\n",
    "    A[row, m+1:q] = [1]*m\n",
    "    sense[row] = '<'\n",
    "    b[row] = k\n",
    "\n",
    "    #Solve for Beta Values\n",
    "    beta = Solver(m_var=q, A=A, sense=sense, b=b, lb=np.array([-M]*q), ub=np.array([M]*q),\n",
    "                  min_max='minimize', vtype = ['C']*(m+1) + ['B']*m, time_limit=time_limit, Q=Q, L=L, C=0)\n",
    "    \n",
    "    return beta"
   ]
  },
  {
   "cell_type": "code",
   "execution_count": 6,
   "metadata": {},
   "outputs": [
    {
     "name": "stdout",
     "output_type": "stream",
     "text": [
      "Academic license - for non-commercial use only - expires 2022-01-03\n",
      "Using license file c:\\gurobi912\\gurobi.lic\n"
     ]
    },
    {
     "data": {
      "text/plain": [
       "3.4811394167311738"
      ]
     },
     "execution_count": 6,
     "metadata": {},
     "output_type": "execute_result"
    }
   ],
   "source": [
    "#Sample Run\n",
    "X = train.drop('y', axis =1)\n",
    "y = train['y']\n",
    "\n",
    "#Get Shape of m\n",
    "m = X.shape[1]-1\n",
    "\n",
    "#Solve for Beta\n",
    "beta = MIQP(X, y, M=1000)\n",
    "\n",
    "#Get Error\n",
    "sq_err = (X @ beta[0:m+1] - y).T @ (X @ beta[0:m+1] - y)\n",
    "mse    = sq_err/len(y)\n",
    "mse"
   ]
  },
  {
   "cell_type": "markdown",
   "metadata": {},
   "source": [
    "### Implement Cross-Validation to solve for optimal value of k (Number of Features)"
   ]
  },
  {
   "cell_type": "code",
   "execution_count": 7,
   "metadata": {},
   "outputs": [
    {
     "name": "stderr",
     "output_type": "stream",
     "text": [
      "100%|█████████████████████████████████████████████████████████████████████████████████| 10/10 [47:12<00:00, 283.28s/it]\n"
     ]
    }
   ],
   "source": [
    "#Dataframe for storing MSE\n",
    "results = pd.DataFrame(columns = ['Number_of_Features','MSE'])\n",
    "\n",
    "#Get only training data\n",
    "X = train.drop('y', axis =1)\n",
    "y = train['y']\n",
    "m = X.shape[1]-1\n",
    "\n",
    "#Big M value\n",
    "M = 100\n",
    "  \n",
    "k_values = [5,10,15,20,25,30,35,40,45,50]\n",
    "#Loop through values of k\n",
    "for k in tqdm(k_values):\n",
    "    \n",
    "    #mse for each k\n",
    "    mse_k = []\n",
    "   \n",
    "    #Loop through K-Folds\n",
    "    for i, (train_indx, test_indx) in enumerate(KFold(X)):\n",
    "\n",
    "        #Train-Test Split\n",
    "        X_train, X_test, y_train, y_test = X.loc[train_indx], X.loc[test_indx], y.loc[train_indx], y.loc[test_indx]\n",
    "        \n",
    "        #Solve for Beta on Train Data\n",
    "        beta = MIQP(X = X_train, y = y_train, k = k, M = M, time_limit = time_limit)\n",
    "\n",
    "        #MSE of Test Data\n",
    "        sq_error = (X_test @ beta[0:m+1] - y_test).T @ (X_test @ beta[0:m+1] - y_test)\n",
    "        mse      = sq_error//len(y_test)\n",
    "        \n",
    "        #Append MSE\n",
    "        mse_k.append(mse)\n",
    "    \n",
    "    #Add mean MSE for corresponding k value\n",
    "    results.loc[len(results)] = [k , np.mean(mse_k)]"
   ]
  },
  {
   "cell_type": "code",
   "execution_count": 16,
   "metadata": {
    "scrolled": true
   },
   "outputs": [],
   "source": [
    "#display results\n",
    "results"
   ]
  },
  {
   "cell_type": "code",
   "execution_count": 9,
   "metadata": {},
   "outputs": [
    {
     "data": {
      "text/plain": [
       "<matplotlib.axes._subplots.AxesSubplot at 0x28b66752278>"
      ]
     },
     "execution_count": 9,
     "metadata": {},
     "output_type": "execute_result"
    },
    {
     "data": {
      "image/png": "[encoded data removed]",
      "text/plain": [
       "<Figure size 432x288 with 1 Axes>"
      ]
     },
     "metadata": {
      "needs_background": "light"
     },
     "output_type": "display_data"
    }
   ],
   "source": [
    "results.set_index('Number_of_Features').plot(kind='line')"
   ]
  },
  {
   "cell_type": "code",
   "execution_count": 10,
   "metadata": {},
   "outputs": [
    {
     "name": "stdout",
     "output_type": "stream",
     "text": [
      "Best k value is: 10\n"
     ]
    }
   ],
   "source": [
    "best_k = int(results.set_index('Number_of_Features').idxmin())\n",
    "print(f\"Best k value is: {best_k}\")"
   ]
  },
  {
   "cell_type": "markdown",
   "metadata": {},
   "source": [
    "### 3. Once you find the k with the smallest cross validation error, fit the MIQP model on the entire training set using that value of k. Use the Betas you find in this MIQP to make a prediction of the y values in the test set."
   ]
  },
  {
   "cell_type": "markdown",
   "metadata": {},
   "source": [
    "### Run on entire train and test data using best k value"
   ]
  },
  {
   "cell_type": "code",
   "execution_count": 18,
   "metadata": {},
   "outputs": [
    {
     "name": "stdout",
     "output_type": "stream",
     "text": [
      "MSE for best k [10] value is: 2.23\n"
     ]
    }
   ],
   "source": [
    "X_train, X_test, y_train, y_test = train.drop('y', axis = 1),  test.drop('y', axis = 1), train['y'], test['y']\n",
    "\n",
    "#Running model on entire train set\n",
    "beta = MIQP(X = X_train, y = y_train, k = best_k, M = 2, time_limit = time_limit)\n",
    "\n",
    "m = X_train.shape[1]-1\n",
    "\n",
    "#Evaluating model on entire test set\n",
    "sq_error = (X_test @ beta[0:m+1] - y_test).T @ (X_test @ beta[0:m+1] - y_test)\n",
    "mse      = sq_error/len(y_test)\n",
    "\n",
    "print(f\"MSE for best k [{best_k}] value is: {round(mse,2)}\")"
   ]
  },
  {
   "cell_type": "markdown",
   "metadata": {},
   "source": [
    "## 4. Use scikit learn to do 10-fold cross validation on the training set to pick Betas Once you find the best value of Betas, fit a LASSO model to the entire training set using that value of Betas With the Betas you find in that LASSO model make a prediction of the y values in the test set."
   ]
  },
  {
   "cell_type": "code",
   "execution_count": 23,
   "metadata": {},
   "outputs": [
    {
     "name": "stdout",
     "output_type": "stream",
     "text": [
      "Regularization Parameter Alpha for sklearn Lasso CV is: 0.076\n"
     ]
    }
   ],
   "source": [
    "#Sklearns LassoCV\n",
    "lasso = LassoCV(cv=10, random_state=42).fit(X_train, y_train)\n",
    "\n",
    "#Best Regularization parameter from 10 fold CV\n",
    "alpha = lasso.alpha_\n",
    "print(f\"Regularization Parameter Alpha for sklearn Lasso CV is: {round(alpha,3)}\")"
   ]
  },
  {
   "cell_type": "code",
   "execution_count": 24,
   "metadata": {},
   "outputs": [
    {
     "name": "stdout",
     "output_type": "stream",
     "text": [
      "MSE for sklearn Lasso CV value is: 3.59\n"
     ]
    }
   ],
   "source": [
    "#Get Beta Values\n",
    "beta = lasso.coef_\n",
    "\n",
    "#Calculate Squared Error\n",
    "sq_error = (X_test @ beta - y_test).T @ (X_test @ beta - y_test)\n",
    "mse      = sq_error/len(y_test)\n",
    "print(f\"MSE for sklearn Lasso CV value is: {round(mse,2)}\")"
   ]
  },
  {
   "cell_type": "code",
   "execution_count": 25,
   "metadata": {},
   "outputs": [
    {
     "name": "stdout",
     "output_type": "stream",
     "text": [
      "Features selected in sklearn Lasso CV is: 17\n"
     ]
    }
   ],
   "source": [
    "#Display Number of Features Selected\n",
    "n_features = sum(lasso.coef_[1:] != 0)\n",
    "print(f\"Features selected in sklearn Lasso CV is: {n_features}\")"
   ]
  },
  {
   "cell_type": "code",
   "execution_count": null,
   "metadata": {},
   "outputs": [],
   "source": []
  }
 ],
 "metadata": {
  "kernelspec": {
   "display_name": "Python 3",
   "language": "python",
   "name": "python3"
  },
  "language_info": {
   "codemirror_mode": {
    "name": "ipython",
    "version": 3
   },
   "file_extension": ".py",
   "mimetype": "text/x-python",
   "name": "python",
   "nbconvert_exporter": "python",
   "pygments_lexer": "ipython3",
   "version": "3.7.1"
  }
 },
 "nbformat": 4,
 "nbformat_minor": 4
}
