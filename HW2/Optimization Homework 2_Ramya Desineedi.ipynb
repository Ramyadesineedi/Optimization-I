{
 "cells": [
  {
   "cell_type": "markdown",
   "id": "f965c40b",
   "metadata": {},
   "source": [
    "# Optimization - Homework 2\n",
    "\n",
    "Submitted by: Ramya Madhuri Desineedi (rd32895)\n",
    "\n",
    "Date of Submission: 24th September 2021"
   ]
  },
  {
   "cell_type": "markdown",
   "id": "fed60dcc",
   "metadata": {},
   "source": []
  },
  {
   "cell_type": "markdown",
   "id": "8f42b35b",
   "metadata": {},
   "source": [
    "# Question 1 - Max's Eating Contest"
   ]
  },
  {
   "cell_type": "code",
   "execution_count": 1,
   "id": "8db529d6",
   "metadata": {
    "scrolled": true
   },
   "outputs": [
    {
     "name": "stdout",
     "output_type": "stream",
     "text": [
      "Requirement already satisfied: gurobipy in /Users/ramya/opt/anaconda3/lib/python3.8/site-packages (9.1.2)\r\n"
     ]
    }
   ],
   "source": [
    "!pip install gurobipy"
   ]
  },
  {
   "cell_type": "code",
   "execution_count": 2,
   "id": "5cbb436e",
   "metadata": {},
   "outputs": [],
   "source": [
    "import numpy as np\n",
    "import matplotlib.pyplot as plt\n",
    "import gurobipy as gp"
   ]
  },
  {
   "cell_type": "code",
   "execution_count": 3,
   "id": "e09e61e5",
   "metadata": {},
   "outputs": [],
   "source": [
    "# Taking #tortes and #pies as x and y\n",
    "# 2x + 3y <= 60\n",
    "# f(x,y) = 4x + 5y -> Objective: To maximise points\n",
    "# x, y >= 0 \n",
    "obj = np.array([4,5]) # Objective\n",
    "A = np.zeros((1,2)) # Initializing constraint matrix\n",
    "A[0:] = [2,3] # Time constraint\n",
    "B = np.array([60])\n",
    "sense = np.array(['<'])"
   ]
  },
  {
   "cell_type": "code",
   "execution_count": 4,
   "id": "4ecc68be",
   "metadata": {},
   "outputs": [
    {
     "name": "stdout",
     "output_type": "stream",
     "text": [
      "Academic license - for non-commercial use only - expires 2022-09-03\n",
      "Using license file /Users/ramya/gurobi.lic\n"
     ]
    }
   ],
   "source": [
    "ojModel = gp.Model() # initialize an empty model\n",
    "\n",
    "ojModX = ojModel.addMVar(2) # tell the model how many variables there are\n",
    "# must define the variables before adding constraints because variables go into the constraints\n",
    "ojModCon = ojModel.addMConstrs(A, ojModX, sense, B) # add the constraints to the model\n",
    "ojModel.setMObjective(None,obj,0,sense=gp.GRB.MAXIMIZE) \n",
    "ojModel.Params.OutputFlag = 0"
   ]
  },
  {
   "cell_type": "code",
   "execution_count": 5,
   "id": "aa5252c9",
   "metadata": {},
   "outputs": [],
   "source": [
    "ojModel.optimize() # solve the LP"
   ]
  },
  {
   "cell_type": "code",
   "execution_count": 6,
   "id": "1c96f738",
   "metadata": {},
   "outputs": [
    {
     "data": {
      "text/plain": [
       "120.0"
      ]
     },
     "execution_count": 6,
     "metadata": {},
     "output_type": "execute_result"
    }
   ],
   "source": [
    "ojModel.objVal # Max's Optimal score"
   ]
  },
  {
   "cell_type": "code",
   "execution_count": 7,
   "id": "7f45f9aa",
   "metadata": {},
   "outputs": [
    {
     "data": {
      "text/plain": [
       "array([30.,  0.])"
      ]
     },
     "execution_count": 7,
     "metadata": {},
     "output_type": "execute_result"
    }
   ],
   "source": [
    "ojModX.x # how many tortes and pies to eat"
   ]
  },
  {
   "cell_type": "markdown",
   "id": "385bb125",
   "metadata": {},
   "source": [
    "## Applying additional constraints for Question 1"
   ]
  },
  {
   "cell_type": "code",
   "execution_count": 8,
   "id": "6ecf6226",
   "metadata": {},
   "outputs": [],
   "source": [
    "# Taking #tortes and #pies as x and y\n",
    "# 2x + 3y <= 60\n",
    "# f(x,y) = 4x + 5y -> Objective: To maximise points\n",
    "# x, y >= 0 \n",
    "#New Constraint\n",
    "# y >= x or -x + y >=0\n",
    "obj = np.array([4,5])\n",
    "A = np.zeros((2,2))\n",
    "A[0:] = [2,3] # time constraint\n",
    "A[1:] = [-1,1] # pie constraint\n",
    "B = np.array([60, 0])\n",
    "sense = np.array(['<', '>'])"
   ]
  },
  {
   "cell_type": "code",
   "execution_count": 9,
   "id": "0b75897e",
   "metadata": {},
   "outputs": [],
   "source": [
    "ojModel = gp.Model() # initialize an empty model\n",
    "\n",
    "ojModX = ojModel.addMVar(2) # tell the model how many variables there are\n",
    "# must define the variables before adding constraints because variables go into the constraints\n",
    "ojModCon = ojModel.addMConstrs(A, ojModX, sense, B) # add the constraints to the model\n",
    "ojModel.setMObjective(None,obj,0,sense=gp.GRB.MAXIMIZE) \n",
    "ojModel.Params.OutputFlag = 0"
   ]
  },
  {
   "cell_type": "code",
   "execution_count": 10,
   "id": "a143b617",
   "metadata": {},
   "outputs": [],
   "source": [
    "ojModel.optimize() # solve the LP"
   ]
  },
  {
   "cell_type": "code",
   "execution_count": 11,
   "id": "179cab6a",
   "metadata": {},
   "outputs": [
    {
     "data": {
      "text/plain": [
       "108.0"
      ]
     },
     "execution_count": 11,
     "metadata": {},
     "output_type": "execute_result"
    }
   ],
   "source": [
    "ojModel.objVal # Max's Optimal score"
   ]
  },
  {
   "cell_type": "code",
   "execution_count": 12,
   "id": "902a13be",
   "metadata": {},
   "outputs": [
    {
     "data": {
      "text/plain": [
       "array([12., 12.])"
      ]
     },
     "execution_count": 12,
     "metadata": {},
     "output_type": "execute_result"
    }
   ],
   "source": [
    "ojModX.x # how many tortes and pies to eat"
   ]
  },
  {
   "cell_type": "code",
   "execution_count": 13,
   "id": "32048dc3",
   "metadata": {},
   "outputs": [
    {
     "data": {
      "text/plain": [
       "12"
      ]
     },
     "execution_count": 13,
     "metadata": {},
     "output_type": "execute_result"
    }
   ],
   "source": [
    "# By how many points does this constraint decrease Max’s total points? \n",
    "120 - 108"
   ]
  },
  {
   "cell_type": "markdown",
   "id": "0f21f4d3",
   "metadata": {},
   "source": [
    "# Question 2 - Farmer"
   ]
  },
  {
   "cell_type": "code",
   "execution_count": 14,
   "id": "7a9c39af",
   "metadata": {},
   "outputs": [],
   "source": [
    "# w, c acres of wheat and corn respectively\n",
    "# w + c <= 450\n",
    "# to maximise profit in k$: 2w + 3c\n",
    "# 3w + 2c <= 1000\n",
    "# 2w + 4c <= 1200\n",
    "obj = np.array([2,3])\n",
    "A = np.zeros((3,2))\n",
    "A[0:] = [1,1] # field size constraint\n",
    "A[1:] = [3,2] # labour constraint\n",
    "A[2:] = [2,4] # fertiliser constraint\n",
    "B = np.array([450, 1000, 1200])\n",
    "sense = np.array(['<', '<', '<'])"
   ]
  },
  {
   "cell_type": "code",
   "execution_count": 15,
   "id": "df4953cc",
   "metadata": {},
   "outputs": [],
   "source": [
    "ojModel = gp.Model() # initialize an empty model\n",
    "\n",
    "ojModX = ojModel.addMVar(2) # tell the model how many variables there are\n",
    "# must define the variables before adding constraints because variables go into the constraints\n",
    "ojModCon = ojModel.addMConstrs(A, ojModX, sense, B) # add the constraints to the model\n",
    "ojModel.setMObjective(None,obj,0,sense=gp.GRB.MAXIMIZE) \n",
    "ojModel.Params.OutputFlag = 0"
   ]
  },
  {
   "cell_type": "code",
   "execution_count": 16,
   "id": "54e7aa49",
   "metadata": {},
   "outputs": [
    {
     "data": {
      "text/plain": [
       "1000.0"
      ]
     },
     "execution_count": 16,
     "metadata": {},
     "output_type": "execute_result"
    }
   ],
   "source": [
    "ojModel.optimize() # solve the LP\n",
    "ojModel.objVal # Optimal profit"
   ]
  },
  {
   "cell_type": "code",
   "execution_count": 17,
   "id": "efabd6ba",
   "metadata": {},
   "outputs": [
    {
     "data": {
      "text/plain": [
       "array([200., 200.])"
      ]
     },
     "execution_count": 17,
     "metadata": {},
     "output_type": "execute_result"
    }
   ],
   "source": [
    "ojModX.x # how many acres of wheat and corn"
   ]
  },
  {
   "cell_type": "code",
   "execution_count": 18,
   "id": "49afe33d",
   "metadata": {},
   "outputs": [
    {
     "name": "stdout",
     "output_type": "stream",
     "text": [
      "200 tons of fertiliser for 100.0 acres of wheat\n",
      "300 tons of fertiliser for 150.0 acres of wheat\n",
      "400 tons of fertiliser for 200.0 acres of wheat\n",
      "500 tons of fertiliser for 250.0 acres of wheat\n",
      "600 tons of fertiliser for 300.0 acres of wheat\n",
      "700 tons of fertiliser for 325.0 acres of wheat\n",
      "800 tons of fertiliser for 300.0 acres of wheat\n",
      "900 tons of fertiliser for 275.0 acres of wheat\n",
      "1000 tons of fertiliser for 250.0 acres of wheat\n",
      "1100 tons of fertiliser for 225.0 acres of wheat\n",
      "1200 tons of fertiliser for 200.0 acres of wheat\n",
      "1300 tons of fertiliser for 175.0 acres of wheat\n",
      "1400 tons of fertiliser for 150.0 acres of wheat\n",
      "1500 tons of fertiliser for 125.0 acres of wheat\n",
      "1600 tons of fertiliser for 100.0 acres of wheat\n",
      "1700 tons of fertiliser for 50.0 acres of wheat\n",
      "1800 tons of fertiliser for 0.0 acres of wheat\n",
      "1900 tons of fertiliser for 0.0 acres of wheat\n",
      "2000 tons of fertiliser for 0.0 acres of wheat\n",
      "2100 tons of fertiliser for 0.0 acres of wheat\n",
      "2200 tons of fertiliser for 0.0 acres of wheat\n"
     ]
    }
   ],
   "source": [
    "fertiliser_available = list(range(200, 2201, 100))\n",
    "fertiliser_available\n",
    "for fert in range(len(fertiliser_available)):\n",
    "    B[2] = fertiliser_available[fert]\n",
    "    ojModel = gp.Model() # initialize an empty model\n",
    "    ojModX = ojModel.addMVar(2) # tell the model how many variables there are\n",
    "    # must define the variables before adding constraints because variables go into the constraints\n",
    "    ojModCon = ojModel.addMConstrs(A, ojModX, sense, B) # add the constraints to the model\n",
    "    ojModel.setMObjective(None,obj,0,sense=gp.GRB.MAXIMIZE) \n",
    "    ojModel.Params.OutputFlag = 0\n",
    "    ojModel.optimize() # solve the LP\n",
    "    print(fertiliser_available[fert], 'tons of fertiliser for', ojModX.x[0], 'acres of wheat')"
   ]
  },
  {
   "cell_type": "markdown",
   "id": "315dc542",
   "metadata": {},
   "source": [
    "From above results, Farmer discontinue producing wheat at 1800 tons of fertiliser"
   ]
  },
  {
   "cell_type": "markdown",
   "id": "6cb8407f",
   "metadata": {},
   "source": [
    "# Question 3 - Star Oil Company"
   ]
  },
  {
   "cell_type": "code",
   "execution_count": 19,
   "id": "512ef03e",
   "metadata": {},
   "outputs": [],
   "source": [
    "# Assuming w1, w2, w3, w4, w5 are the fractions of investments 1, 2, 3, 4, 5 \n",
    "# Hence, 0 <= w1, w2, w3, w4, w5 <= 1\n",
    "# Objective is to maximise NPV: 13w1 + 16w2 + 16w3 + 14w4 + 39w5\n",
    "# 11w1 + 53w2 + 5w3 + 5w4 + 29w5 <= 40\n",
    "# 3w1 + 6w2 + 5w3 + 1w4 + 34w5 <=20\n",
    "obj = np.array([13, 16, 16, 14, 39])\n",
    "A = np.zeros((7,5))\n",
    "A[0:] = [1,0,0,0,0]\n",
    "A[1:] = [0,1,0,0,0]\n",
    "A[2:] = [0,0,1,0,0]\n",
    "A[3:] = [0,0,0,1,0]\n",
    "A[4:] = [0,0,0,0,1]\n",
    "A[5:] = [11,53,5,5,29] \n",
    "A[6:] = [3,6,5,1,34] \n",
    "B = np.array([1,1,1,1,1,40,20])\n",
    "sense = np.array(['<', '<', '<', '<', '<', '<', '<'])"
   ]
  },
  {
   "cell_type": "code",
   "execution_count": 20,
   "id": "f67f825c",
   "metadata": {},
   "outputs": [],
   "source": [
    "ojModel = gp.Model() # initialize an empty model\n",
    "\n",
    "ojModX = ojModel.addMVar(5) # tell the model how many variables there are\n",
    "# must define the variables before adding constraints because variables go into the constraints\n",
    "ojModCon = ojModel.addMConstrs(A, ojModX, sense, B) # add the constraints to the model\n",
    "ojModel.setMObjective(None,obj,0,sense=gp.GRB.MAXIMIZE) \n",
    "ojModel.Params.OutputFlag = 0"
   ]
  },
  {
   "cell_type": "code",
   "execution_count": 21,
   "id": "3bb81060",
   "metadata": {},
   "outputs": [
    {
     "data": {
      "text/plain": [
       "1.0"
      ]
     },
     "execution_count": 21,
     "metadata": {},
     "output_type": "execute_result"
    }
   ],
   "source": [
    "ojModel.optimize() # solve the LP\n",
    "ojModX.x[2]"
   ]
  },
  {
   "cell_type": "markdown",
   "id": "b9e0facf",
   "metadata": {},
   "source": [
    "Star Oil should invest 100% of funds in investment 3"
   ]
  },
  {
   "cell_type": "markdown",
   "id": "f7e73b88",
   "metadata": {},
   "source": [
    "# Question 4 - Daily Nutrition"
   ]
  },
  {
   "cell_type": "code",
   "execution_count": 22,
   "id": "c8fe1ff1",
   "metadata": {},
   "outputs": [],
   "source": [
    "# c, m, b are servings of corn, milk and bread\n",
    "# to minimise cost: 0.18c + 0.23m + 0.05b\n",
    "# subject to: 0 <= c, m, b <= 10 -> servings limitation\n",
    "# 2000 <= 72c + 121m + 65b <= 2250 -> calorie restriction\n",
    "# 5000 <= 107c + 500m + 0b <= 50000 -> vitamin restriction\n",
    "obj = np.array([0.18,0.23,0.05])\n",
    "A = np.zeros((7,3))\n",
    "# Amount of serving constraint\n",
    "A[0:] = [1,0,0] \n",
    "A[1:] = [0,1,0] \n",
    "A[2:] = [0,0,1] \n",
    "# calorie constraint\n",
    "A[3:] = [72,121,65] \n",
    "A[4:] = [72,121,65] \n",
    "# vitamin constraint\n",
    "A[5:] = [107,500,0] \n",
    "A[6:] = [107,500,0] \n",
    "B = np.array([10,10,10,2000,2250,5000,50000])\n",
    "sense = np.array(['<','<','<', '>', '<', '>', '<'])"
   ]
  },
  {
   "cell_type": "code",
   "execution_count": 23,
   "id": "c48ee8cb",
   "metadata": {},
   "outputs": [],
   "source": [
    "ojModel = gp.Model() # initialize an empty model\n",
    "\n",
    "ojModX = ojModel.addMVar(3) # tell the model how many variables there are\n",
    "# must define the variables before adding constraints because variables go into the constraints\n",
    "ojModCon = ojModel.addMConstrs(A, ojModX, sense, B) # add the constraints to the model\n",
    "ojModel.setMObjective(None,obj,0,sense=gp.GRB.MINIMIZE) \n",
    "ojModel.Params.OutputFlag = 0"
   ]
  },
  {
   "cell_type": "code",
   "execution_count": 24,
   "id": "123e84ed",
   "metadata": {},
   "outputs": [
    {
     "data": {
      "text/plain": [
       "1.9444444444444444"
      ]
     },
     "execution_count": 24,
     "metadata": {},
     "output_type": "execute_result"
    }
   ],
   "source": [
    "ojModel.optimize() # solve the LP\n",
    "ojModX.x[0]"
   ]
  },
  {
   "cell_type": "markdown",
   "id": "16e91c49",
   "metadata": {},
   "source": [
    "I should be eating 1.94 servings of corn"
   ]
  },
  {
   "cell_type": "markdown",
   "id": "ad42e60a",
   "metadata": {},
   "source": [
    "# Question 5 - Paper and Wood Products"
   ]
  },
  {
   "cell_type": "code",
   "execution_count": 25,
   "id": "07e620ae",
   "metadata": {},
   "outputs": [],
   "source": [
    "# let a1,a2,a3 be acres of forest cut in unit 1 in year 1, 2, 3\n",
    "# let b1,b2,b3 be acres of forest cut in unit 2 in year 1, 2, 3\n",
    "# Objective is to maximise : a1 + 1.3a2 + 1.4a3 + b1 + 1.2b2 + 1.6b3\n",
    "\n",
    "#Constraints are listed as below:\n",
    "# Total Acreage\n",
    "# a1 + a2 + a3 <= 2\n",
    "# b1 + b2 + b3 <= 3\n",
    "\n",
    "# a1 + b1 >= 1.2\n",
    "# a1 + b1 <= 2\n",
    "# 1.3a2 + 1.2b2 >= 1.5\n",
    "\n",
    "# 1.3a2 + 1.2b2 <= 2\n",
    "# 1.4a3 +1.6b3 >= 2\n",
    "# 1.4a3 +1.6b3 <= 3\n",
    "\n",
    "obj = np.array([1,1.3,1.4,1,1.2,1.6])\n",
    "A = np.zeros((8,6))\n",
    "A[0:] = [1,1,1,0,0,0] # unit 1 size constraint\n",
    "A[1:] = [0,0,0,1,1,1] # unit 2 size constraint\n",
    "A[2:] = [1,0,0,1,0,0] # year 1 economic constraint\n",
    "A[3:] = [1,0,0,1,0,0] # year 1 equipment and personnel constraint\n",
    "A[4:] = [0,1.3,0,0,1.2,0] # year 2 economic constraint\n",
    "A[5:] = [0,1.3,0,0,1.2,0] # year 2 equipment and personnel constraint\n",
    "A[6:] = [0,0,1.4,0,0,1.6] # year 3 economic constraint\n",
    "A[7:] = [0,0,1.4,0,0,1.6] # year 3 equipment and personnel constraint\n",
    "B = np.array([2,3,1.2,2,1.5,2,2,3])\n",
    "sense = np.array(['<', '<', '>', '<', '>', '<', '>', '<'])"
   ]
  },
  {
   "cell_type": "code",
   "execution_count": 26,
   "id": "7cb71f0c",
   "metadata": {},
   "outputs": [],
   "source": [
    "ojModel = gp.Model() # initialize an empty model\n",
    "\n",
    "ojModX = ojModel.addMVar(6) # tell the model how many variables there are\n",
    "# must define the variables before adding constraints because variables go into the constraints\n",
    "ojModCon = ojModel.addMConstrs(A, ojModX, sense, B) # add the constraints to the model\n",
    "ojModel.setMObjective(None,obj,0,sense=gp.GRB.MAXIMIZE) \n",
    "ojModel.Params.OutputFlag = 0"
   ]
  },
  {
   "cell_type": "code",
   "execution_count": 27,
   "id": "82f20451",
   "metadata": {},
   "outputs": [
    {
     "data": {
      "text/plain": [
       "1.88"
      ]
     },
     "execution_count": 27,
     "metadata": {},
     "output_type": "execute_result"
    }
   ],
   "source": [
    "ojModel.optimize() # solve the LP\n",
    "round(ojModX.x[5],2)"
   ]
  },
  {
   "cell_type": "markdown",
   "id": "e0b5cfc0",
   "metadata": {},
   "source": [
    "In Year 3, 1.88 acres of Unit 2 should be cut down"
   ]
  }
 ],
 "metadata": {
  "kernelspec": {
   "display_name": "Python 3 (ipykernel)",
   "language": "python",
   "name": "python3"
  },
  "language_info": {
   "codemirror_mode": {
    "name": "ipython",
    "version": 3
   },
   "file_extension": ".py",
   "mimetype": "text/x-python",
   "name": "python",
   "nbconvert_exporter": "python",
   "pygments_lexer": "ipython3",
   "version": "3.8.5"
  }
 },
 "nbformat": 4,
 "nbformat_minor": 5
}
